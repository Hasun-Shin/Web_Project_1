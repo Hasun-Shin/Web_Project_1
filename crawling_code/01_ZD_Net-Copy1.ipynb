{
 "cells": [
  {
   "cell_type": "code",
   "execution_count": 2,
   "metadata": {},
   "outputs": [
    {
     "name": "stdout",
     "output_type": "stream",
     "text": [
      "Collecting fake_useragent\n",
      "Installing collected packages: fake-useragent\n",
      "Successfully installed fake-useragent-0.1.11\n"
     ]
    }
   ],
   "source": [
    "# !pip install fake_useragent"
   ]
  },
  {
   "cell_type": "markdown",
   "metadata": {},
   "source": [
    "### Selenium으로 크롤링"
   ]
  },
  {
   "cell_type": "code",
   "execution_count": 30,
   "metadata": {},
   "outputs": [
    {
     "name": "stdout",
     "output_type": "stream",
     "text": [
      "Collecting selenium\n",
      "  Using cached https://files.pythonhosted.org/packages/80/d6/4294f0b4bce4de0abf13e17190289f9d0613b0a44e5dd6a7f5ca98459853/selenium-3.141.0-py2.py3-none-any.whl\n",
      "Requirement already satisfied: urllib3 in c:\\programdata\\anaconda3\\lib\\site-packages (from selenium) (1.24.2)\n",
      "Installing collected packages: selenium\n",
      "Successfully installed selenium-3.141.0\n"
     ]
    }
   ],
   "source": [
    "# !pip install selenium"
   ]
  },
  {
   "cell_type": "code",
   "execution_count": 104,
   "metadata": {},
   "outputs": [],
   "source": [
    "from selenium import webdriver"
   ]
  },
  {
   "cell_type": "code",
   "execution_count": 105,
   "metadata": {},
   "outputs": [],
   "source": [
    "url= 'http://www.zdnet.co.kr/newskey/?lstcode=%EC%9D%B8%EA%B3%B5%EC%A7%80%EB%8A%A5'"
   ]
  },
  {
   "cell_type": "code",
   "execution_count": 59,
   "metadata": {},
   "outputs": [],
   "source": [
    "driver =  webdriver.Chrome()\n",
    "driver.get(url)"
   ]
  },
  {
   "cell_type": "code",
   "execution_count": 122,
   "metadata": {},
   "outputs": [
    {
     "data": {
      "text/plain": [
       "17"
      ]
     },
     "execution_count": 122,
     "metadata": {},
     "output_type": "execute_result"
    }
   ],
   "source": [
    "#여러데이터 모으기\n",
    "articles = driver.find_elements_by_css_selector(\"body > div.contentWrapper > div > div.left_cont > section > div\")\n",
    "len(articles)"
   ]
  },
  {
   "cell_type": "code",
   "execution_count": 123,
   "metadata": {},
   "outputs": [
    {
     "data": {
      "text/html": [
       "<div>\n",
       "<style scoped>\n",
       "    .dataframe tbody tr th:only-of-type {\n",
       "        vertical-align: middle;\n",
       "    }\n",
       "\n",
       "    .dataframe tbody tr th {\n",
       "        vertical-align: top;\n",
       "    }\n",
       "\n",
       "    .dataframe thead th {\n",
       "        text-align: right;\n",
       "    }\n",
       "</style>\n",
       "<table border=\"1\" class=\"dataframe\">\n",
       "  <thead>\n",
       "    <tr style=\"text-align: right;\">\n",
       "      <th></th>\n",
       "      <th>title</th>\n",
       "    </tr>\n",
       "  </thead>\n",
       "  <tbody>\n",
       "    <tr>\n",
       "      <td>0</td>\n",
       "      <td>\"AI, 일자리를 빼앗지 않고 일하는 방식 혁신할 것\"</td>\n",
       "    </tr>\n",
       "    <tr>\n",
       "      <td>1</td>\n",
       "      <td>AI 시대 이용자보호 정책 전담조직 생긴다</td>\n",
       "    </tr>\n",
       "    <tr>\n",
       "      <td>2</td>\n",
       "      <td>산업부, 디지털통상 전문인력 양성한다</td>\n",
       "    </tr>\n",
       "    <tr>\n",
       "      <td>3</td>\n",
       "      <td>구글 딥마인드 \"의사보다 유방암 오판율 낮은 AI모델 개발\"</td>\n",
       "    </tr>\n",
       "    <tr>\n",
       "      <td>4</td>\n",
       "      <td>마이너리티 리포트가 현실로…'AI+CCTV'로 범죄 예측 가능해진다</td>\n",
       "    </tr>\n",
       "  </tbody>\n",
       "</table>\n",
       "</div>"
      ],
      "text/plain": [
       "                                   title\n",
       "0         \"AI, 일자리를 빼앗지 않고 일하는 방식 혁신할 것\"\n",
       "1                AI 시대 이용자보호 정책 전담조직 생긴다\n",
       "2                   산업부, 디지털통상 전문인력 양성한다\n",
       "3      구글 딥마인드 \"의사보다 유방암 오판율 낮은 AI모델 개발\"\n",
       "4  마이너리티 리포트가 현실로…'AI+CCTV'로 범죄 예측 가능해진다"
      ]
     },
     "execution_count": 123,
     "metadata": {},
     "output_type": "execute_result"
    }
   ],
   "source": [
    "#제목만 뽑아내기\n",
    "import pandas as pd\n",
    "\n",
    "title_list = []\n",
    "for article in articles:\n",
    "    title = article.find_element_by_css_selector(\"div.assetText > a > h3\").text \n",
    "    title_list.append(title)\n",
    "title =pd.DataFrame(title_list, columns=['title'])\n",
    "title.head()"
   ]
  },
  {
   "cell_type": "code",
   "execution_count": 124,
   "metadata": {},
   "outputs": [
    {
     "data": {
      "text/html": [
       "<div>\n",
       "<style scoped>\n",
       "    .dataframe tbody tr th:only-of-type {\n",
       "        vertical-align: middle;\n",
       "    }\n",
       "\n",
       "    .dataframe tbody tr th {\n",
       "        vertical-align: top;\n",
       "    }\n",
       "\n",
       "    .dataframe thead th {\n",
       "        text-align: right;\n",
       "    }\n",
       "</style>\n",
       "<table border=\"1\" class=\"dataframe\">\n",
       "  <thead>\n",
       "    <tr style=\"text-align: right;\">\n",
       "      <th></th>\n",
       "      <th>link</th>\n",
       "    </tr>\n",
       "  </thead>\n",
       "  <tbody>\n",
       "    <tr>\n",
       "      <td>0</td>\n",
       "      <td>http://www.zdnet.co.kr/view/?no=20200102141508</td>\n",
       "    </tr>\n",
       "    <tr>\n",
       "      <td>1</td>\n",
       "      <td>http://www.zdnet.co.kr/view/?no=20200102111519</td>\n",
       "    </tr>\n",
       "    <tr>\n",
       "      <td>2</td>\n",
       "      <td>http://www.zdnet.co.kr/view/?no=20200102110525</td>\n",
       "    </tr>\n",
       "    <tr>\n",
       "      <td>3</td>\n",
       "      <td>http://www.zdnet.co.kr/view/?no=20200102101522</td>\n",
       "    </tr>\n",
       "    <tr>\n",
       "      <td>4</td>\n",
       "      <td>http://www.zdnet.co.kr/view/?no=20200102091441</td>\n",
       "    </tr>\n",
       "  </tbody>\n",
       "</table>\n",
       "</div>"
      ],
      "text/plain": [
       "                                             link\n",
       "0  http://www.zdnet.co.kr/view/?no=20200102141508\n",
       "1  http://www.zdnet.co.kr/view/?no=20200102111519\n",
       "2  http://www.zdnet.co.kr/view/?no=20200102110525\n",
       "3  http://www.zdnet.co.kr/view/?no=20200102101522\n",
       "4  http://www.zdnet.co.kr/view/?no=20200102091441"
      ]
     },
     "execution_count": 124,
     "metadata": {},
     "output_type": "execute_result"
    }
   ],
   "source": [
    "#링크만 뽑아내기\n",
    "\n",
    "link_list = []\n",
    "for article in articles:\n",
    "    link = article.find_element_by_css_selector(\"a\").get_attribute(\"href\")\n",
    "    link_list.append(link)\n",
    "link= pd.DataFrame(link_list, columns=['link'])\n",
    "link.head() #상위 5개 보여줌"
   ]
  },
  {
   "cell_type": "code",
   "execution_count": 125,
   "metadata": {},
   "outputs": [
    {
     "data": {
      "text/html": [
       "<div>\n",
       "<style scoped>\n",
       "    .dataframe tbody tr th:only-of-type {\n",
       "        vertical-align: middle;\n",
       "    }\n",
       "\n",
       "    .dataframe tbody tr th {\n",
       "        vertical-align: top;\n",
       "    }\n",
       "\n",
       "    .dataframe thead th {\n",
       "        text-align: right;\n",
       "    }\n",
       "</style>\n",
       "<table border=\"1\" class=\"dataframe\">\n",
       "  <thead>\n",
       "    <tr style=\"text-align: right;\">\n",
       "      <th></th>\n",
       "      <th>img</th>\n",
       "    </tr>\n",
       "  </thead>\n",
       "  <tbody>\n",
       "    <tr>\n",
       "      <td>0</td>\n",
       "      <td>http://image.zdnet.co.kr/2020/01/02/sangheek_e...</td>\n",
       "    </tr>\n",
       "    <tr>\n",
       "      <td>1</td>\n",
       "      <td>http://image.zdnet.co.kr/2020/01/02/psooh_XzAy...</td>\n",
       "    </tr>\n",
       "    <tr>\n",
       "      <td>2</td>\n",
       "      <td>http://image.zdnet.co.kr/2019/11/11/mjjoo_oNiO...</td>\n",
       "    </tr>\n",
       "    <tr>\n",
       "      <td>3</td>\n",
       "      <td>http://image.zdnet.co.kr/2018/02/23/sangheek_c...</td>\n",
       "    </tr>\n",
       "    <tr>\n",
       "      <td>4</td>\n",
       "      <td>http://image.zdnet.co.kr/2020/01/02/jiny_WCHYi...</td>\n",
       "    </tr>\n",
       "  </tbody>\n",
       "</table>\n",
       "</div>"
      ],
      "text/plain": [
       "                                                 img\n",
       "0  http://image.zdnet.co.kr/2020/01/02/sangheek_e...\n",
       "1  http://image.zdnet.co.kr/2020/01/02/psooh_XzAy...\n",
       "2  http://image.zdnet.co.kr/2019/11/11/mjjoo_oNiO...\n",
       "3  http://image.zdnet.co.kr/2018/02/23/sangheek_c...\n",
       "4  http://image.zdnet.co.kr/2020/01/02/jiny_WCHYi..."
      ]
     },
     "execution_count": 125,
     "metadata": {},
     "output_type": "execute_result"
    }
   ],
   "source": [
    "#이미지만 뽑아내기\n",
    "\n",
    "img_list = []\n",
    "for article in articles:\n",
    "    img = article.find_element_by_css_selector(\"div.assetThumb > a > figure > img\").get_attribute(\"src\") \n",
    "    img_list.append(img)\n",
    "img=pd.DataFrame(img_list,columns=['img'])\n",
    "img.head()"
   ]
  },
  {
   "cell_type": "code",
   "execution_count": 126,
   "metadata": {},
   "outputs": [
    {
     "data": {
      "text/html": [
       "<div>\n",
       "<style scoped>\n",
       "    .dataframe tbody tr th:only-of-type {\n",
       "        vertical-align: middle;\n",
       "    }\n",
       "\n",
       "    .dataframe tbody tr th {\n",
       "        vertical-align: top;\n",
       "    }\n",
       "\n",
       "    .dataframe thead th {\n",
       "        text-align: right;\n",
       "    }\n",
       "</style>\n",
       "<table border=\"1\" class=\"dataframe\">\n",
       "  <thead>\n",
       "    <tr style=\"text-align: right;\">\n",
       "      <th></th>\n",
       "      <th>img</th>\n",
       "      <th>title</th>\n",
       "      <th>link</th>\n",
       "    </tr>\n",
       "  </thead>\n",
       "  <tbody>\n",
       "    <tr>\n",
       "      <td>12</td>\n",
       "      <td>http://image.zdnet.co.kr/2019/12/18/insight_Jm...</td>\n",
       "      <td>'반도체 굴기' 성과 낸 中..\"신기술 확보 필요해\"</td>\n",
       "      <td>http://www.zdnet.co.kr/view/?no=20191231105746</td>\n",
       "    </tr>\n",
       "    <tr>\n",
       "      <td>13</td>\n",
       "      <td>http://image.zdnet.co.kr/2019/12/31/sun1108_wp...</td>\n",
       "      <td>최기영 장관 “2020년 AI 강국·미디어 생태계 조성”</td>\n",
       "      <td>http://www.zdnet.co.kr/view/?no=20191231103105</td>\n",
       "    </tr>\n",
       "    <tr>\n",
       "      <td>14</td>\n",
       "      <td>http://image.zdnet.co.kr/2019/12/31/hjyoo_8saf...</td>\n",
       "      <td>中 베이징서 '기사없는 택시' 등장한다</td>\n",
       "      <td>http://www.zdnet.co.kr/view/?no=20191231090244</td>\n",
       "    </tr>\n",
       "    <tr>\n",
       "      <td>15</td>\n",
       "      <td>http://www.zdnet.co.kr/images/default_img.jpg</td>\n",
       "      <td>NIA, '공공기관 신뢰가능 AI 구현 실용가이드' 발간</td>\n",
       "      <td>http://www.zdnet.co.kr/view/?no=20191230152910</td>\n",
       "    </tr>\n",
       "    <tr>\n",
       "      <td>16</td>\n",
       "      <td>http://image.zdnet.co.kr/2019/12/10/imc_I9Uhii...</td>\n",
       "      <td>SAS, 2020년 데이터 분석 대중화 목표</td>\n",
       "      <td>http://www.zdnet.co.kr/view/?no=20191230133412</td>\n",
       "    </tr>\n",
       "  </tbody>\n",
       "</table>\n",
       "</div>"
      ],
      "text/plain": [
       "                                                  img  \\\n",
       "12  http://image.zdnet.co.kr/2019/12/18/insight_Jm...   \n",
       "13  http://image.zdnet.co.kr/2019/12/31/sun1108_wp...   \n",
       "14  http://image.zdnet.co.kr/2019/12/31/hjyoo_8saf...   \n",
       "15      http://www.zdnet.co.kr/images/default_img.jpg   \n",
       "16  http://image.zdnet.co.kr/2019/12/10/imc_I9Uhii...   \n",
       "\n",
       "                              title  \\\n",
       "12    '반도체 굴기' 성과 낸 中..\"신기술 확보 필요해\"   \n",
       "13  최기영 장관 “2020년 AI 강국·미디어 생태계 조성”   \n",
       "14            中 베이징서 '기사없는 택시' 등장한다   \n",
       "15  NIA, '공공기관 신뢰가능 AI 구현 실용가이드' 발간   \n",
       "16         SAS, 2020년 데이터 분석 대중화 목표   \n",
       "\n",
       "                                              link  \n",
       "12  http://www.zdnet.co.kr/view/?no=20191231105746  \n",
       "13  http://www.zdnet.co.kr/view/?no=20191231103105  \n",
       "14  http://www.zdnet.co.kr/view/?no=20191231090244  \n",
       "15  http://www.zdnet.co.kr/view/?no=20191230152910  \n",
       "16  http://www.zdnet.co.kr/view/?no=20191230133412  "
      ]
     },
     "execution_count": 126,
     "metadata": {},
     "output_type": "execute_result"
    }
   ],
   "source": [
    "result=pd.concat([img, title, link], axis=1)\n",
    "result.tail() #하위5개 보여줌"
   ]
  },
  {
   "cell_type": "code",
   "execution_count": 119,
   "metadata": {},
   "outputs": [],
   "source": [
    "# 함수로 만들기\n",
    "def get_articles(startpage, endpage):\n",
    "    \n",
    "    driver =  webdriver.Chrome()\n",
    "    url = 'http://www.zdnet.co.kr/newskey/?lstcode=%EC%9D%B8%EA%B3%B5%EC%A7%80%EB%8A%A5&page={}'.format(page)\n",
    "    driver.get(url)\n",
    "    \n",
    "    for i in range(startpage, endpage):\n",
    "        \n",
    "    #여러데이터 모으기\n",
    "    articles = driver.find_elements_by_css_selector(\"body > div.contentWrapper > div > div.left_cont > section > div\")\n",
    "    \n",
    "    #제목\n",
    "    title_list = []\n",
    "    for article in articles:\n",
    "        title = article.find_element_by_css_selector(\"div.assetText > a > h3\").text \n",
    "        title_list.append(title)\n",
    "    title =pd.DataFrame(title_list, columns=['title'])\n",
    "    \n",
    "    #링크만 뽑아내기\n",
    "    link_list = []\n",
    "    for article in articles:\n",
    "        link = article.find_element_by_css_selector(\"a\").get_attribute(\"href\")\n",
    "        link_list.append(link)\n",
    "    link= pd.DataFrame(link_list, columns=['link'])\n",
    "    \n",
    "    #이미지만 뽑아내기\n",
    "    img_list = []\n",
    "    for article in articles:\n",
    "        img = article.find_element_by_css_selector(\"div.assetThumb > a > figure > img\").get_attribute(\"src\") \n",
    "        img_list.append(img)\n",
    "    img=pd.DataFrame(img_list,columns=['img'])\n",
    "    \n",
    "    result=pd.concat([img, title, link], axis=1)\n",
    "    driver.quit()\n",
    "    return result"
   ]
  },
  {
   "cell_type": "code",
   "execution_count": 142,
   "metadata": {},
   "outputs": [],
   "source": [
    "# 자동으로 일정 페이지 크롤링해줘서 데이터프레임 만들어주기\n",
    "def zd_net(startpage, endpage):\n",
    "    df=pd.DataFrame([])\n",
    "    for i in range(startpage, endpage+1):\n",
    "        temp=get_articles(i)\n",
    "        df= pd.concat([df,temp],axis=0)\n",
    "    #index 번호 다시 매기기\n",
    "    df.reset_index(drop=True, inplace=True)\n",
    "    return df\n",
    "      "
   ]
  },
  {
   "cell_type": "code",
   "execution_count": 143,
   "metadata": {},
   "outputs": [],
   "source": [
    "final_df= zd_net(1,4)"
   ]
  },
  {
   "cell_type": "code",
   "execution_count": 144,
   "metadata": {},
   "outputs": [],
   "source": [
    "final_df.to_csv(\"zd_net.csv\", index=False, encoding='utf-8' )"
   ]
  },
  {
   "cell_type": "code",
   "execution_count": 146,
   "metadata": {},
   "outputs": [],
   "source": [
    "## 참고\n",
    "### csv파일을 여기서 읽고 싶다면\n",
    "final_df = pd.read_csv(\"zd_net.csv\", encoding=\"utf-8\")\n"
   ]
  },
  {
   "cell_type": "markdown",
   "metadata": {},
   "source": [
    "### 만약 엑셀에서 열고 싶다면\n",
    "1. 엑셀 열기\n",
    "2. 데이터 탭 > 외부데이터 가져오기> 아무거나 누르기> 모든파일> csv 파일선택\n",
    "3. 언어를 utf-8로 설정하고 열기"
   ]
  },
  {
   "cell_type": "code",
   "execution_count": null,
   "metadata": {},
   "outputs": [],
   "source": []
  }
 ],
 "metadata": {
  "kernelspec": {
   "display_name": "Python 3",
   "language": "python",
   "name": "python3"
  },
  "language_info": {
   "codemirror_mode": {
    "name": "ipython",
    "version": 3
   },
   "file_extension": ".py",
   "mimetype": "text/x-python",
   "name": "python",
   "nbconvert_exporter": "python",
   "pygments_lexer": "ipython3",
   "version": "3.7.5"
  }
 },
 "nbformat": 4,
 "nbformat_minor": 2
}
