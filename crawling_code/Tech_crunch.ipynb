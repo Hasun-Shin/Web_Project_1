{
 "cells": [
  {
   "cell_type": "code",
   "execution_count": 6,
   "metadata": {},
   "outputs": [],
   "source": [
    "from selenium import webdriver"
   ]
  },
  {
   "cell_type": "code",
   "execution_count": 7,
   "metadata": {},
   "outputs": [],
   "source": [
    "page = 2\n",
    "\n",
    "url = 'http://www.itworld.co.kr/search/?q=AI'.format(page)"
   ]
  },
  {
   "cell_type": "code",
   "execution_count": 8,
   "metadata": {},
   "outputs": [],
   "source": [
    "driver =  webdriver.Chrome()\n",
    "driver.get(url)"
   ]
  },
  {
   "cell_type": "code",
   "execution_count": 54,
   "metadata": {
    "scrolled": true
   },
   "outputs": [
    {
     "data": {
      "text/plain": [
       "10"
      ]
     },
     "execution_count": 54,
     "metadata": {},
     "output_type": "execute_result"
    }
   ],
   "source": [
    "#여러데이터 모으기\n",
    "articles = driver.find_elements_by_css_selector(\"#___gcse_1 > div > div > div > div.gsc-wrapper > div.gsc-resultsbox-visible > div.gsc-resultsRoot.gsc-tabData.gsc-tabdActive > div > div.gsc-expansionArea > div > div.gs-webResult.gs-result\")\n",
    "                                                #___gcse_1 > div > div > div > div.gsc-wrapper > div.gsc-resultsbox-visible > div.gsc-resultsRoot.gsc-tabData.gsc-tabdActive > div > div.gsc-expansionArea > div > div.gs-webResult.gs-result > div.gsc-url-top > div.gs-bidi-start-align.gs-visibleUrl.gs-visibleUrl-long\n",
    "\n",
    "len(articles)"
   ]
  },
  {
   "cell_type": "code",
   "execution_count": 55,
   "metadata": {},
   "outputs": [
    {
     "data": {
      "text/html": [
       "<div>\n",
       "<style scoped>\n",
       "    .dataframe tbody tr th:only-of-type {\n",
       "        vertical-align: middle;\n",
       "    }\n",
       "\n",
       "    .dataframe tbody tr th {\n",
       "        vertical-align: top;\n",
       "    }\n",
       "\n",
       "    .dataframe thead th {\n",
       "        text-align: right;\n",
       "    }\n",
       "</style>\n",
       "<table border=\"1\" class=\"dataframe\">\n",
       "  <thead>\n",
       "    <tr style=\"text-align: right;\">\n",
       "      <th></th>\n",
       "      <th>title</th>\n",
       "    </tr>\n",
       "  </thead>\n",
       "  <tbody>\n",
       "    <tr>\n",
       "      <th>0</th>\n",
       "      <td>AI 기반의 위협 탐지가 아직 시장을 장악하지 못한 이유 - ITWorld Korea</td>\n",
       "    </tr>\n",
       "    <tr>\n",
       "      <th>1</th>\n",
       "      <td>네트워크 운영 : AI와 ML의 새로운 역할 - ITWorld Korea</td>\n",
       "    </tr>\n",
       "    <tr>\n",
       "      <th>2</th>\n",
       "      <td>IT 미래를 이끄는 삼두마차, \"AI, IoT, 하이브리드 클라우드\" - ITWor...</td>\n",
       "    </tr>\n",
       "    <tr>\n",
       "      <th>3</th>\n",
       "      <td>AI 여정을 가속화하는 핵심 로드맵 - IDG Summary - ITWorld Korea</td>\n",
       "    </tr>\n",
       "    <tr>\n",
       "      <th>4</th>\n",
       "      <td>AI 개발을 위한 최적의 프로그래밍 언어 6+2선 - ITWorld Korea</td>\n",
       "    </tr>\n",
       "  </tbody>\n",
       "</table>\n",
       "</div>"
      ],
      "text/plain": [
       "                                               title\n",
       "0    AI 기반의 위협 탐지가 아직 시장을 장악하지 못한 이유 - ITWorld Korea\n",
       "1           네트워크 운영 : AI와 ML의 새로운 역할 - ITWorld Korea\n",
       "2  IT 미래를 이끄는 삼두마차, \"AI, IoT, 하이브리드 클라우드\" - ITWor...\n",
       "3  AI 여정을 가속화하는 핵심 로드맵 - IDG Summary - ITWorld Korea\n",
       "4        AI 개발을 위한 최적의 프로그래밍 언어 6+2선 - ITWorld Korea"
      ]
     },
     "execution_count": 55,
     "metadata": {},
     "output_type": "execute_result"
    }
   ],
   "source": [
    "#제목 뽑기  > div.gsc-thumbnail-inside > div > a\n",
    "#articles[0].find_element_by_css_selector(\"div.gsc-thumbnail-inside > div > a\").text\n",
    "\n",
    "\n",
    "import pandas as pd\n",
    "\n",
    "title_list = []\n",
    "for article in articles:\n",
    "    title = article.find_element_by_css_selector(\"div.gsc-thumbnail-inside > div > a\").text \n",
    "    title_list.append(title)\n",
    "title =pd.DataFrame(title_list, columns=['title'])\n",
    "title.head()"
   ]
  },
  {
   "cell_type": "code",
   "execution_count": 58,
   "metadata": {},
   "outputs": [
    {
     "data": {
      "text/html": [
       "<div>\n",
       "<style scoped>\n",
       "    .dataframe tbody tr th:only-of-type {\n",
       "        vertical-align: middle;\n",
       "    }\n",
       "\n",
       "    .dataframe tbody tr th {\n",
       "        vertical-align: top;\n",
       "    }\n",
       "\n",
       "    .dataframe thead th {\n",
       "        text-align: right;\n",
       "    }\n",
       "</style>\n",
       "<table border=\"1\" class=\"dataframe\">\n",
       "  <thead>\n",
       "    <tr style=\"text-align: right;\">\n",
       "      <th></th>\n",
       "      <th>link</th>\n",
       "    </tr>\n",
       "  </thead>\n",
       "  <tbody>\n",
       "    <tr>\n",
       "      <th>0</th>\n",
       "      <td>www.itworld.co.kr/news/115320</td>\n",
       "    </tr>\n",
       "    <tr>\n",
       "      <th>1</th>\n",
       "      <td>www.itworld.co.kr/news/111554</td>\n",
       "    </tr>\n",
       "    <tr>\n",
       "      <th>2</th>\n",
       "      <td>www.itworld.co.kr/news/106773</td>\n",
       "    </tr>\n",
       "    <tr>\n",
       "      <th>3</th>\n",
       "      <td>www.itworld.co.kr/techlibrary/118550</td>\n",
       "    </tr>\n",
       "    <tr>\n",
       "      <th>4</th>\n",
       "      <td>www.itworld.co.kr/news/137383</td>\n",
       "    </tr>\n",
       "  </tbody>\n",
       "</table>\n",
       "</div>"
      ],
      "text/plain": [
       "                                   link\n",
       "0         www.itworld.co.kr/news/115320\n",
       "1         www.itworld.co.kr/news/111554\n",
       "2         www.itworld.co.kr/news/106773\n",
       "3  www.itworld.co.kr/techlibrary/118550\n",
       "4         www.itworld.co.kr/news/137383"
      ]
     },
     "execution_count": 58,
     "metadata": {},
     "output_type": "execute_result"
    }
   ],
   "source": [
    "# 링크 뽑기\n",
    "##___gcse_1 > div > div > div > div.gsc-wrapper > div.gsc-resultsbox-visible > div.gsc-resultsRoot.gsc-tabData.gsc-tabdActive > div > div.gsc-expansionArea > div:nth-child(1) > div.gs-webResult.gs-result > div.gsc-url-top > div.gs-bidi-start-align.gs-visibleUrl.gs-visibleUrl-long\n",
    "\n",
    "link_list = []\n",
    "for article in articles:\n",
    "    link = article.find_element_by_css_selector(\"div.gsc-url-top > div.gs-bidi-start-align.gs-visibleUrl.gs-visibleUrl-long\").text #get_attribute(\"href\")\n",
    "    link_list.append(link)\n",
    "link= pd.DataFrame(link_list, columns=['link'])\n",
    "link.head() #상위 5개 보여줌"
   ]
  },
  {
   "cell_type": "code",
   "execution_count": 57,
   "metadata": {},
   "outputs": [
    {
     "data": {
      "text/html": [
       "<div>\n",
       "<style scoped>\n",
       "    .dataframe tbody tr th:only-of-type {\n",
       "        vertical-align: middle;\n",
       "    }\n",
       "\n",
       "    .dataframe tbody tr th {\n",
       "        vertical-align: top;\n",
       "    }\n",
       "\n",
       "    .dataframe thead th {\n",
       "        text-align: right;\n",
       "    }\n",
       "</style>\n",
       "<table border=\"1\" class=\"dataframe\">\n",
       "  <thead>\n",
       "    <tr style=\"text-align: right;\">\n",
       "      <th></th>\n",
       "      <th>img</th>\n",
       "    </tr>\n",
       "  </thead>\n",
       "  <tbody>\n",
       "    <tr>\n",
       "      <th>0</th>\n",
       "      <td>https://encrypted-tbn3.gstatic.com/images?q=tb...</td>\n",
       "    </tr>\n",
       "    <tr>\n",
       "      <th>1</th>\n",
       "      <td>https://encrypted-tbn1.gstatic.com/images?q=tb...</td>\n",
       "    </tr>\n",
       "    <tr>\n",
       "      <th>2</th>\n",
       "      <td>https://encrypted-tbn3.gstatic.com/images?q=tb...</td>\n",
       "    </tr>\n",
       "    <tr>\n",
       "      <th>3</th>\n",
       "      <td>https://encrypted-tbn3.gstatic.com/images?q=tb...</td>\n",
       "    </tr>\n",
       "    <tr>\n",
       "      <th>4</th>\n",
       "      <td>https://encrypted-tbn0.gstatic.com/images?q=tb...</td>\n",
       "    </tr>\n",
       "  </tbody>\n",
       "</table>\n",
       "</div>"
      ],
      "text/plain": [
       "                                                 img\n",
       "0  https://encrypted-tbn3.gstatic.com/images?q=tb...\n",
       "1  https://encrypted-tbn1.gstatic.com/images?q=tb...\n",
       "2  https://encrypted-tbn3.gstatic.com/images?q=tb...\n",
       "3  https://encrypted-tbn3.gstatic.com/images?q=tb...\n",
       "4  https://encrypted-tbn0.gstatic.com/images?q=tb..."
      ]
     },
     "execution_count": 57,
     "metadata": {},
     "output_type": "execute_result"
    }
   ],
   "source": [
    "# articles[0].text\n",
    "#div.gsc-table-result > div.gsc-table-cell-thumbnail.gsc-thumbnail > div > a > img\n",
    "\n",
    "img_list = []\n",
    "for article in articles:\n",
    "    img = article.find_element_by_css_selector(\"div.gsc-table-result > div.gsc-table-cell-thumbnail.gsc-thumbnail > div > a > img\").get_attribute(\"src\") \n",
    "    img_list.append(img)\n",
    "img=pd.DataFrame(img_list,columns=['img'])\n",
    "img.head()"
   ]
  },
  {
   "cell_type": "code",
   "execution_count": 59,
   "metadata": {},
   "outputs": [
    {
     "data": {
      "text/html": [
       "<div>\n",
       "<style scoped>\n",
       "    .dataframe tbody tr th:only-of-type {\n",
       "        vertical-align: middle;\n",
       "    }\n",
       "\n",
       "    .dataframe tbody tr th {\n",
       "        vertical-align: top;\n",
       "    }\n",
       "\n",
       "    .dataframe thead th {\n",
       "        text-align: right;\n",
       "    }\n",
       "</style>\n",
       "<table border=\"1\" class=\"dataframe\">\n",
       "  <thead>\n",
       "    <tr style=\"text-align: right;\">\n",
       "      <th></th>\n",
       "      <th>img</th>\n",
       "      <th>title</th>\n",
       "      <th>link</th>\n",
       "    </tr>\n",
       "  </thead>\n",
       "  <tbody>\n",
       "    <tr>\n",
       "      <th>5</th>\n",
       "      <td>https://encrypted-tbn1.gstatic.com/images?q=tb...</td>\n",
       "      <td>AI와 보안이 만났을 때, \"실시간으로 해킹을 차단한다\" - ITWorld Korea</td>\n",
       "      <td>www.itworld.co.kr/news/103324</td>\n",
       "    </tr>\n",
       "    <tr>\n",
       "      <th>6</th>\n",
       "      <td>https://encrypted-tbn0.gstatic.com/images?q=tb...</td>\n",
       "      <td>기업이 반드시 도입해야 하는 AI 활용법 5가지 - ITWorld Korea</td>\n",
       "      <td>www.itworld.co.kr/news/105057</td>\n",
       "    </tr>\n",
       "    <tr>\n",
       "      <th>7</th>\n",
       "      <td>https://encrypted-tbn0.gstatic.com/images?q=tb...</td>\n",
       "      <td>\"사이버보안의 가장 큰 위협이 될 수 있는\" AI 퍼징이란 무엇인가 ...</td>\n",
       "      <td>www.itworld.co.kr/howto/119834</td>\n",
       "    </tr>\n",
       "    <tr>\n",
       "      <th>8</th>\n",
       "      <td>https://encrypted-tbn0.gstatic.com/images?q=tb...</td>\n",
       "      <td>AI를 활용한 사이버 위협, 보안의 다음 과제 - ITWorld Korea</td>\n",
       "      <td>www.itworld.co.kr/news/111362</td>\n",
       "    </tr>\n",
       "    <tr>\n",
       "      <th>9</th>\n",
       "      <td>https://encrypted-tbn3.gstatic.com/images?q=tb...</td>\n",
       "      <td>성공적인 AI 프로젝트를 위한 8가지 핵심 직무 - ITWorld Korea</td>\n",
       "      <td>www.itworld.co.kr/news/118955</td>\n",
       "    </tr>\n",
       "  </tbody>\n",
       "</table>\n",
       "</div>"
      ],
      "text/plain": [
       "                                                 img  \\\n",
       "5  https://encrypted-tbn1.gstatic.com/images?q=tb...   \n",
       "6  https://encrypted-tbn0.gstatic.com/images?q=tb...   \n",
       "7  https://encrypted-tbn0.gstatic.com/images?q=tb...   \n",
       "8  https://encrypted-tbn0.gstatic.com/images?q=tb...   \n",
       "9  https://encrypted-tbn3.gstatic.com/images?q=tb...   \n",
       "\n",
       "                                             title  \\\n",
       "5  AI와 보안이 만났을 때, \"실시간으로 해킹을 차단한다\" - ITWorld Korea   \n",
       "6       기업이 반드시 도입해야 하는 AI 활용법 5가지 - ITWorld Korea   \n",
       "7        \"사이버보안의 가장 큰 위협이 될 수 있는\" AI 퍼징이란 무엇인가 ...   \n",
       "8        AI를 활용한 사이버 위협, 보안의 다음 과제 - ITWorld Korea   \n",
       "9       성공적인 AI 프로젝트를 위한 8가지 핵심 직무 - ITWorld Korea   \n",
       "\n",
       "                             link  \n",
       "5   www.itworld.co.kr/news/103324  \n",
       "6   www.itworld.co.kr/news/105057  \n",
       "7  www.itworld.co.kr/howto/119834  \n",
       "8   www.itworld.co.kr/news/111362  \n",
       "9   www.itworld.co.kr/news/118955  "
      ]
     },
     "execution_count": 59,
     "metadata": {},
     "output_type": "execute_result"
    }
   ],
   "source": [
    "result=pd.concat([img, title, link], axis=1)\n",
    "result.tail() #하위5개 보여줌"
   ]
  },
  {
   "cell_type": "code",
   "execution_count": 72,
   "metadata": {},
   "outputs": [
    {
     "ename": "SyntaxError",
     "evalue": "invalid syntax (<ipython-input-72-8c28942c89e2>, line 1)",
     "output_type": "error",
     "traceback": [
      "\u001b[1;36m  File \u001b[1;32m\"<ipython-input-72-8c28942c89e2>\"\u001b[1;36m, line \u001b[1;32m1\u001b[0m\n\u001b[1;33m    startpage =\u001b[0m\n\u001b[1;37m                ^\u001b[0m\n\u001b[1;31mSyntaxError\u001b[0m\u001b[1;31m:\u001b[0m invalid syntax\n"
     ]
    }
   ],
   "source": [
    " startpage = \n",
    "    \n",
    "    \n",
    "    ([\"#___gcse_1 > div > div > div > div.gsc-wrapper > div.gsc-resultsbox-visible > div.gsc-resultsRoot.gsc-tabData.gsc-tabdActive > div > div.gsc-cursor-box.gs-bidi-start-align > div > div:nth-child(2)\")].click()\n",
    "     \n",
    "startpage.text"
   ]
  },
  {
   "cell_type": "code",
   "execution_count": 69,
   "metadata": {},
   "outputs": [],
   "source": [
    "# 함수로 만들기\n",
    "def get_articles(startpage, endpage):\n",
    "    \n",
    "    driver =  webdriver.Chrome()\n",
    "    url = 'http://www.itworld.co.kr/search/?q=AI'.format(page)\n",
    "    driver.get(url)\n",
    "    \n",
    "    \n",
    "    #___gcse_1 > div > div > div > div.gsc-wrapper > div.gsc-resultsbox-visible > div.gsc-resultsRoot.gsc-tabData.gsc-tabdActive > div > div.gsc-cursor-box.gs-bidi-start-align > div > div.gsc-cursor-page.gsc-cursor-current-page\n",
    "    \n",
    "    startpage = \n",
    "    \n",
    "    \n",
    "    ([\"#___gcse_1 > div > div > div > div.gsc-wrapper > div.gsc-resultsbox-visible > div.gsc-resultsRoot.gsc-tabData.gsc-tabdActive > div > div.gsc-cursor-box.gs-bidi-start-align > div > div:nth-child(2)\")].click()\n",
    "    \n",
    "    \n",
    "    \n",
    "    \n",
    "    endpage = \n",
    "    \n",
    "    \n",
    "    for i in range(startpage, endpage):\n",
    "        select_page=f\"{i+1}페이지\"\n",
    "        ([aria-label:select_page]).click()\n",
    "        driver.find_element_by_css_selector('[type=\"submit\"]').click()#___gcse_1 > div > div > div > div.gsc-wrapper > div.gsc-resultsbox-visible > div.gsc-resultsRoot.gsc-tabData.gsc-tabdActive > div > div.gsc-cursor-box.gs-bidi-start-align > div > div.gsc-cursor-page.gsc-cursor-current-page\n",
    "        \n",
    "    #여러데이터 모으기\n",
    "        articles = driver.find_elements_by_css_selector(\"#___gcse_1 > div > div > div > div.gsc-wrapper > div.gsc-resultsbox-visible > div.gsc-resultsRoot.gsc-tabData.gsc-tabdActive > div > div.gsc-expansionArea > div > div.gs-webResult.gs-result\")\n",
    "    \n",
    "   \n",
    "\n",
    "    #제목 뽑기  \n",
    "\n",
    "    title_list = []\n",
    "    for article in articles:\n",
    "        title = article.find_element_by_css_selector(\"div.gsc-thumbnail-inside > div > a\").text \n",
    "        title_list.append(title)\n",
    "    title =pd.DataFrame(title_list, columns=['title'])\n",
    "    title.head()\n",
    "    \n",
    "   # 링크 뽑기\n",
    "\n",
    "\n",
    "    link_list = []\n",
    "    for article in articles:\n",
    "        link = article.find_element_by_css_selector(\"div.gsc-url-top > div.gs-bidi-start-align.gs-visibleUrl.gs-visibleUrl-long\").text #get_attribute(\"href\")\n",
    "        link_list.append(link)\n",
    "    link= pd.DataFrame(link_list, columns=['link'])\n",
    "    link.head() #상위 5개 보여줌\n",
    "    \n",
    "    #이미지만 뽑아내기\n",
    "    img_list = []\n",
    "    for article in articles:\n",
    "        img = article.find_element_by_css_selector(\"div.gsc-table-result > div.gsc-table-cell-thumbnail.gsc-thumbnail > div > a > img\").get_attribute(\"src\") \n",
    "        img_list.append(img)\n",
    "    img=pd.DataFrame(img_list,columns=['img'])\n",
    "    img.head()\n",
    "    \n",
    "    result=pd.concat([img, title, link], axis=1)\n",
    "    driver.quit()\n",
    "    return result"
   ]
  },
  {
   "cell_type": "code",
   "execution_count": null,
   "metadata": {},
   "outputs": [],
   "source": []
  }
 ],
 "metadata": {
  "kernelspec": {
   "display_name": "Python 3",
   "language": "python",
   "name": "python3"
  },
  "language_info": {
   "codemirror_mode": {
    "name": "ipython",
    "version": 3
   },
   "file_extension": ".py",
   "mimetype": "text/x-python",
   "name": "python",
   "nbconvert_exporter": "python",
   "pygments_lexer": "ipython3",
   "version": "3.7.5"
  }
 },
 "nbformat": 4,
 "nbformat_minor": 2
}
