{
 "cells": [
  {
   "cell_type": "code",
   "execution_count": 2,
   "metadata": {},
   "outputs": [
    {
     "name": "stdout",
     "output_type": "stream",
     "text": [
      "Collecting selenium\n",
      "  Downloading https://files.pythonhosted.org/packages/80/d6/4294f0b4bce4de0abf13e17190289f9d0613b0a44e5dd6a7f5ca98459853/selenium-3.141.0-py2.py3-none-any.whl (904kB)\n",
      "Requirement already satisfied: urllib3 in c:\\users\\student\\appdata\\local\\programs\\python\\python37\\lib\\site-packages (from selenium) (1.25.7)\n",
      "Installing collected packages: selenium\n",
      "Successfully installed selenium-3.141.0\n"
     ]
    },
    {
     "name": "stderr",
     "output_type": "stream",
     "text": [
      "WARNING: You are using pip version 19.2.3, however version 19.3.1 is available.\n",
      "You should consider upgrading via the 'python -m pip install --upgrade pip' command.\n"
     ]
    }
   ],
   "source": [
    "!pip install selenium"
   ]
  },
  {
   "cell_type": "code",
   "execution_count": 3,
   "metadata": {},
   "outputs": [
    {
     "name": "stdout",
     "output_type": "stream",
     "text": [
      "Python 3.7.5\n"
     ]
    }
   ],
   "source": [
    "!python --version\n"
   ]
  },
  {
   "cell_type": "markdown",
   "metadata": {},
   "source": [
    "#### 네이버 기사 제목 데이터 크롤링\n",
    "- selenium을 이용한 텍스트 데이터 수집\n",
    "- thread를 사용한 크롤링\n",
    "    - idle타임에 또다른 리퀘스트를 하며 클라이언트 서버가 놀지 않는다 => 시간단축\n",
    "    - 이렇게 컴퓨팅 파워를 관리하는것에 관심이 있다면 celery를 공부해라\n",
    "- scrapy를 이용하면 다음과 같이 설정하지 않아도 자동으로 thread를 이용해 크롤링해준다"
   ]
  },
  {
   "cell_type": "code",
   "execution_count": 5,
   "metadata": {},
   "outputs": [],
   "source": [
    "from selenium import webdriver"
   ]
  },
  {
   "cell_type": "code",
   "execution_count": 16,
   "metadata": {},
   "outputs": [],
   "source": [
    "page = 2\n",
    "\n",
    "url = 'https://news.naver.com/main/main.nhn?mode=LSD&mid=shm&sid1=105#&date=%2000:00:00&page={}'.format(page)"
   ]
  },
  {
   "cell_type": "code",
   "execution_count": 17,
   "metadata": {},
   "outputs": [],
   "source": [
    "driver =  webdriver.Chrome()\n",
    "driver.get(url)"
   ]
  },
  {
   "cell_type": "code",
   "execution_count": 8,
   "metadata": {},
   "outputs": [
    {
     "data": {
      "text/plain": [
       "20"
      ]
     },
     "execution_count": 8,
     "metadata": {},
     "output_type": "execute_result"
    }
   ],
   "source": [
    "#여러데이터 모으기\n",
    "articles = driver.find_elements_by_css_selector(\"#section_body li\")\n",
    "len(articles)"
   ]
  },
  {
   "cell_type": "code",
   "execution_count": null,
   "metadata": {},
   "outputs": [],
   "source": [
    "articles = driver.find_elements_by_css_selector(\"#section_body li\")\n",
    "print(articles)"
   ]
  },
  {
   "cell_type": "code",
   "execution_count": null,
   "metadata": {},
   "outputs": [],
   "source": [
    "articles[0].find_element_by_css_selector(\"dt:not(.photo) > a\").text"
   ]
  },
  {
   "cell_type": "code",
   "execution_count": null,
   "metadata": {},
   "outputs": [],
   "source": [
    "article_list = []\n",
    "for article in articles:\n",
    "    title = article.find_element_by_css_selector(\"dt:not(.photo) > a\").text\n",
    "    article_list.append(title)"
   ]
  },
  {
   "cell_type": "code",
   "execution_count": null,
   "metadata": {},
   "outputs": [],
   "source": [
    "article_list"
   ]
  },
  {
   "cell_type": "code",
   "execution_count": 12,
   "metadata": {},
   "outputs": [],
   "source": [
    "driver.quit()"
   ]
  },
  {
   "cell_type": "code",
   "execution_count": 13,
   "metadata": {},
   "outputs": [],
   "source": [
    "article_list = []\n",
    "def get_articles(page):\n",
    "    driver =  webdriver.Chrome()\n",
    "    url = 'https://news.naver.com/main/main.nhn?mode=LSD&mid=shm&sid1=105#&date=%2000:00:00&page={}'.format(page)\n",
    "    driver.get(url)\n",
    "    #여러데이터 모으기\n",
    "    articles = driver.find_elements_by_css_selector(\"#section_body li\")\n",
    "    for article in articles:\n",
    "        title = article.find_element_by_css_selector(\"dt:not(.photo) > a\").text\n",
    "        article_list.append(title)\n",
    "    print(\"crawling : {}\".format(page))\n",
    "    driver.quit()"
   ]
  },
  {
   "cell_type": "code",
   "execution_count": 14,
   "metadata": {},
   "outputs": [
    {
     "name": "stdout",
     "output_type": "stream",
     "text": [
      "crawling : 1\n",
      "crawling : 2\n",
      "crawling : 3\n",
      "crawling : 4\n",
      "Wall time: 35.3 s\n"
     ]
    }
   ],
   "source": [
    "%%time\n",
    "for page in range(1,5):\n",
    "    get_articles(page)"
   ]
  },
  {
   "cell_type": "code",
   "execution_count": 13,
   "metadata": {},
   "outputs": [
    {
     "data": {
      "text/plain": [
       "[\"5년 뒤 9兆 시장…'게임체인저' 주목받는 클라우드게임\",\n",
       " '\"소규모 지진 때 지열발전 멈췄다면…포항지진 확률 1%에 불과했을 것\"',\n",
       " '\"영하 5도 이하에선 접지 말라\"…그래도 1분만에 \\'매진\\'된 메이트X']"
      ]
     },
     "execution_count": 13,
     "metadata": {},
     "output_type": "execute_result"
    }
   ],
   "source": [
    "article_list[:3]"
   ]
  },
  {
   "cell_type": "markdown",
   "metadata": {},
   "source": [
    "#### thread 사용"
   ]
  },
  {
   "cell_type": "code",
   "execution_count": 16,
   "metadata": {},
   "outputs": [],
   "source": [
    "import threading"
   ]
  },
  {
   "cell_type": "code",
   "execution_count": 19,
   "metadata": {},
   "outputs": [],
   "source": [
    "article_list = []\n",
    "\n",
    "for page in range(1,5):\n",
    "    th = threading.Thread(target=get_articles, args=(page,))  #실행시킬 함수의 이름, (page,)=>데이터가 하나있는 튜플\n",
    "    th.start()"
   ]
  },
  {
   "cell_type": "code",
   "execution_count": 20,
   "metadata": {},
   "outputs": [
    {
     "name": "stdout",
     "output_type": "stream",
     "text": [
      "1 2 3 4 5 6 7 8 9 10 11 12 crawling : 3\n",
      "13 crawling : 4\n",
      "crawling : 2\n",
      "crawling : 1\n",
      "14 "
     ]
    }
   ],
   "source": [
    "import time\n",
    "sec = 0\n",
    "while len(article_list)< 80:\n",
    "    time.sleep(1)\n",
    "    sec +=1     #1초마다 sec이 1씩 증가\n",
    "    print(sec, end=\" \")"
   ]
  },
  {
   "cell_type": "code",
   "execution_count": null,
   "metadata": {},
   "outputs": [],
   "source": []
  }
 ],
 "metadata": {
  "kernelspec": {
   "display_name": "Python 3",
   "language": "python",
   "name": "python3"
  },
  "language_info": {
   "codemirror_mode": {
    "name": "ipython",
    "version": 3
   },
   "file_extension": ".py",
   "mimetype": "text/x-python",
   "name": "python",
   "nbconvert_exporter": "python",
   "pygments_lexer": "ipython3",
   "version": "3.7.5"
  }
 },
 "nbformat": 4,
 "nbformat_minor": 2
}
